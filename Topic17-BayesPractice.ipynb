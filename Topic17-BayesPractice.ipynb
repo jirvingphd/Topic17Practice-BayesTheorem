{
 "cells": [
  {
   "cell_type": "markdown",
   "metadata": {},
   "source": [
    "# Topic 17 - Bayes' Theorem Practice\n",
    "---\n",
    "\n",
    "## $$P(A\\mid B)=\\frac {P(B\\mid A) \\cdot P(A)}{P(B)}$$\n"
   ]
  },
  {
   "cell_type": "markdown",
   "metadata": {},
   "source": [
    "A medical test is designed to diagnose a certain disease. The test has a false positive rate of 10%, meaning that 10% of people without the disease will get a positive test result. The test has a false negative rate of 2%, meaning that 2% of people with the disease will get a negative result. Only 1% of the population has this disease."
   ]
  },
  {
   "cell_type": "markdown",
   "metadata": {},
   "source": [
    "### 1) What is the probability of receiving a positive test result? Show how you arrive at your answer.\n",
    "\n",
    "Assume that the person being tested is randomly selected from the broader population. You can show your work using text, code, or both."
   ]
  },
  {
   "cell_type": "code",
   "execution_count": 2,
   "metadata": {},
   "outputs": [
    {
     "output_type": "execute_result",
     "data": {
      "text/plain": [
       "'\\nWritten answer with probability notation here\\nP(pos | disease) =  1 - .02 \\nP(pos | healhty) = 0.1\\nP(disease) = .01\\nP(healthy) = 1 - P(disease)\\n\\n## Use law of total prob\\nP(pos) = P(pos | disease)*P(disease) + P(pos | healhty)*P(healthy)\\n\\n'"
      ]
     },
     "metadata": {},
     "execution_count": 2
    }
   ],
   "source": [
    "\"\"\"\n",
    "Written answer with probability notation here\n",
    "P(pos | disease) =  1 - .02 \n",
    "P(pos | healhty) = 0.1\n",
    "P(disease) = .01\n",
    "P(healthy) = 1 - P(disease)\n",
    "\n",
    "## Use law of total prob\n",
    "P(pos) = P(pos | disease)*P(disease) + P(pos | healhty)*P(healthy)\n",
    "\n",
    "\"\"\""
   ]
  },
  {
   "cell_type": "code",
   "execution_count": 3,
   "metadata": {},
   "outputs": [
    {
     "output_type": "execute_result",
     "data": {
      "text/plain": [
       "0.10880000000000001"
      ]
     },
     "metadata": {},
     "execution_count": 3
    }
   ],
   "source": [
    "# Code to calculate the probability here\n",
    "P_pos_given_disease = 1-.02\n",
    "P_pos_given_healthy = 0.1\n",
    "P_disease = 0.01\n",
    "P_healhty = 1-P_disease\n",
    "\n",
    "P_pos = P_pos_given_disease*P_disease + P_pos_given_healthy*P_healhty\n",
    "P_pos\n",
    "\n"
   ]
  },
  {
   "cell_type": "markdown",
   "metadata": {},
   "source": [
    "### 2) If a patient receives a positive test result, what is the probability that they actually have the disease? Show how you arrive at your answer.\n",
    "\n",
    "Hint: Use your answer to the previous question to answer this one. You can show your work using text, code, or both."
   ]
  },
  {
   "cell_type": "code",
   "execution_count": 4,
   "metadata": {},
   "outputs": [
    {
     "output_type": "execute_result",
     "data": {
      "text/plain": [
       "'\\nWritten answer with probability notation here\\n\\n\\nP(disease) \\nP(pos)\\nP(pos|disease)\\n\\n## Solve for P(disease|pos):\\nP(A|B) = P(B|A)*P(A)/*P(B)\\nA = disease\\nB = pos\\nP(disease|pos) =  P(pos|disease)*P(disease)/P(pos)\\n\\n'"
      ]
     },
     "metadata": {},
     "execution_count": 4
    }
   ],
   "source": [
    "\"\"\"\n",
    "Written answer with probability notation here\n",
    "\n",
    "\n",
    "P(disease) \n",
    "P(pos)\n",
    "P(pos|disease)\n",
    "\n",
    "## Solve for P(disease|pos):\n",
    "P(A|B) = P(B|A)*P(A)/*P(B)\n",
    "A = disease\n",
    "B = pos\n",
    "P(disease|pos) =  P(pos|disease)*P(disease)/P(pos)\n",
    "\n",
    "\"\"\""
   ]
  },
  {
   "cell_type": "code",
   "execution_count": 6,
   "metadata": {},
   "outputs": [
    {
     "output_type": "execute_result",
     "data": {
      "text/plain": [
       "(0.98, 0.01, 0.10880000000000001)"
      ]
     },
     "metadata": {},
     "execution_count": 6
    }
   ],
   "source": [
    "P_pos_given_disease, P_disease, P_pos"
   ]
  },
  {
   "cell_type": "code",
   "execution_count": 7,
   "metadata": {},
   "outputs": [
    {
     "output_type": "execute_result",
     "data": {
      "text/plain": [
       "0.09007352941176469"
      ]
     },
     "metadata": {},
     "execution_count": 7
    }
   ],
   "source": [
    "# Code to calculate the probability here\n",
    "P_disease_given_pos = P_pos_given_disease*P_disease/P_pos\n",
    "P_disease_given_pos"
   ]
  },
  {
   "cell_type": "code",
   "execution_count": null,
   "metadata": {},
   "outputs": [],
   "source": []
  }
 ],
 "metadata": {
  "kernelspec": {
   "name": "python385jvsc74a57bd0b6f8c5455914fd83a896e0c3c67cb0be81ade909db6abc1955d07b074198775b",
   "display_name": "Python 3.8.5 64-bit ('learn-env-new': conda)"
  },
  "language_info": {
   "codemirror_mode": {
    "name": "ipython",
    "version": 3
   },
   "file_extension": ".py",
   "mimetype": "text/x-python",
   "name": "python",
   "nbconvert_exporter": "python",
   "pygments_lexer": "ipython3",
   "version": "3.8.5"
  },
  "toc": {
   "base_numbering": 1,
   "nav_menu": {},
   "number_sections": true,
   "sideBar": true,
   "skip_h1_title": false,
   "title_cell": "Table of Contents",
   "title_sidebar": "Contents",
   "toc_cell": false,
   "toc_position": {},
   "toc_section_display": true,
   "toc_window_display": false
  }
 },
 "nbformat": 4,
 "nbformat_minor": 4
}